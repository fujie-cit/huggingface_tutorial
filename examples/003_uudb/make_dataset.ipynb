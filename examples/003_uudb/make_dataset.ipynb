{
 "cells": [
  {
   "cell_type": "markdown",
   "metadata": {},
   "source": [
    "UUDBのパラ言語情報（6種類の実数値）を予測するモデルを作成するためのデータセットを作成する．"
   ]
  },
  {
   "cell_type": "code",
   "execution_count": 1,
   "metadata": {},
   "outputs": [],
   "source": [
    "from datasets import Dataset, Audio, DatasetDict\n",
    "import pandas as pd\n",
    "import pathlib\n",
    "import os\n",
    "from typing import List"
   ]
  },
  {
   "cell_type": "markdown",
   "metadata": {},
   "source": [
    "最初の方は過去の方法と同様"
   ]
  },
  {
   "cell_type": "code",
   "execution_count": 2,
   "metadata": {},
   "outputs": [],
   "source": [
    "# UUDBコーパスのあるディレクトリ\n",
    "UUDB_TOP_DIR=\"/autofs/diamond2/share/corpus/UUDB/UUDB\""
   ]
  },
  {
   "cell_type": "code",
   "execution_count": 3,
   "metadata": {},
   "outputs": [],
   "source": [
    "# 話者情報の読み込み\n",
    "speaker_info_df = pd.read_csv('uudb_speaker_info.csv', index_col=0)\n",
    "# speaker_info_df['L']['C001'] で C001 の L　の話者のspeaker_id (FTSなど) が得られる"
   ]
  },
  {
   "cell_type": "code",
   "execution_count": 4,
   "metadata": {},
   "outputs": [],
   "source": [
    "df_list = []\n",
    "for dir in sorted(pathlib.Path(UUDB_TOP_DIR + \"/var\").glob('C*')):\n",
    "    session_name = os.path.basename(dir)\n",
    "    # list と para のファイルパス\n",
    "    list_file_path = os.path.join(dir.as_posix(), session_name + \".list\")\n",
    "    para_file_path = os.path.join(dir.as_posix(), session_name + \".para\")\n",
    "    # list と para を DataFrame に読み込む\n",
    "    list_df = pd.read_table(list_file_path, header=None)\n",
    "    list_df.columns = [\"wav\"]\n",
    "    para_df = pd.read_table(para_file_path, header=None)\n",
    "    para_df.columns = [\"pleasantness\", \"arousal\", \"dominance\", \"credibility\", \"interest\", \"positivity\"]\n",
    "    # wavファイル名から必要な情報を抽出して列にする. session, L or R, 発話の通し番号\n",
    "    list_session = list_df['wav'].apply(lambda x: x[:4])\n",
    "    list_session.name = 'session'\n",
    "    list_channel = list_df['wav'].apply(lambda x: x[4])\n",
    "    list_channel.name = 'channel'\n",
    "    list_utterance_number = list_df['wav'].apply(lambda x: int(x[6:9]))\n",
    "    list_utterance_number.name = 'utterance_number'\n",
    "    # speaker_id\n",
    "    speaker_id = dict(L=speaker_info_df['L'][session_name], R=speaker_info_df['R'][session_name])\n",
    "    list_speaker_id = list_df['wav'].apply(lambda x: speaker_id[x[4]])\n",
    "    list_speaker_id.name = \"speaker\"\n",
    "    # 以上を結合する\n",
    "    df = pd.concat([list_df, list_session, list_channel, \n",
    "                    list_utterance_number, list_speaker_id, para_df], axis=1)\n",
    "    df_list.append(df)\n",
    "# 全体を一つに結合\n",
    "info_df = pd.concat(df_list, axis=0, ignore_index=True)"
   ]
  },
  {
   "cell_type": "code",
   "execution_count": 5,
   "metadata": {},
   "outputs": [],
   "source": [
    "# 全セッション名のリスト\n",
    "session_list = speaker_info_df.index.tolist()\n",
    "# 学習, 検証, テストのいずれにも使わないデータのセッション名のリスト\n",
    "ignore_session_list = [\"C061\", \"C062\", \"C063\", \"C064\"]\n",
    "# 検証データのセッション名のリスト\n",
    "validation_session_list = [\"C051\"]\n",
    "# テストデータのセッション名のリスト\n",
    "test_session_list = [\"C052\", \"C053\"]\n",
    "# 学習データのセッション名のリスト\n",
    "train_session_list = [session for session in session_list if session not in ignore_session_list + validation_session_list + test_session_list]"
   ]
  },
  {
   "cell_type": "markdown",
   "metadata": {},
   "source": [
    "音声を含むデータセットを作成指定する関数"
   ]
  },
  {
   "cell_type": "code",
   "execution_count": 6,
   "metadata": {},
   "outputs": [],
   "source": [
    "def make_dataset_from_df(df: pd.DataFrame, session_list: List[str]) -> Dataset:\n",
    "    sub_df = info_df[info_df['session'].isin(session_list)]\n",
    "    df_dict = sub_df.to_dict(orient='list')\n",
    "    # train_df_dict の wav キーを audio キーに変更\n",
    "    df_dict['audio'] = df_dict.pop('wav')\n",
    "    # audio の項のファイルパスをフルパスに変更\n",
    "    # foo.wav を UUDB_TOP_DIR/var/C001/C001_foo.wav に変更\n",
    "    df_dict['audio'] = [os.path.join(UUDB_TOP_DIR, 'var', session, wav) for session, wav in zip(df_dict['session'], df_dict['audio'])]\n",
    "    # dataset化\n",
    "    dataset = Dataset.from_dict(df_dict).cast_column('audio', Audio())\n",
    "\n",
    "    return dataset"
   ]
  },
  {
   "cell_type": "markdown",
   "metadata": {},
   "source": [
    "上記の関数で各学習データを作成"
   ]
  },
  {
   "cell_type": "code",
   "execution_count": 7,
   "metadata": {},
   "outputs": [],
   "source": [
    "train_dataset = make_dataset_from_df(info_df, train_session_list)\n",
    "validation_dataset = make_dataset_from_df(info_df, validation_session_list)\n",
    "test_dataset = make_dataset_from_df(info_df, test_session_list)"
   ]
  },
  {
   "cell_type": "markdown",
   "metadata": {},
   "source": [
    "ディスクに保存する"
   ]
  },
  {
   "cell_type": "code",
   "execution_count": 8,
   "metadata": {},
   "outputs": [
    {
     "data": {
      "application/vnd.jupyter.widget-view+json": {
       "model_id": "7f666be91eb4479aa51ca75b237138d0",
       "version_major": 2,
       "version_minor": 0
      },
      "text/plain": [
       "Saving the dataset (0/1 shards):   0%|          | 0/3334 [00:00<?, ? examples/s]"
      ]
     },
     "metadata": {},
     "output_type": "display_data"
    },
    {
     "data": {
      "application/vnd.jupyter.widget-view+json": {
       "model_id": "7ae4b5fcc8a84c2bb588400aea3a392a",
       "version_major": 2,
       "version_minor": 0
      },
      "text/plain": [
       "Saving the dataset (0/1 shards):   0%|          | 0/203 [00:00<?, ? examples/s]"
      ]
     },
     "metadata": {},
     "output_type": "display_data"
    },
    {
     "data": {
      "application/vnd.jupyter.widget-view+json": {
       "model_id": "76eefb5f7ae640938fbae39ac8aabd28",
       "version_major": 2,
       "version_minor": 0
      },
      "text/plain": [
       "Saving the dataset (0/1 shards):   0%|          | 0/169 [00:00<?, ? examples/s]"
      ]
     },
     "metadata": {},
     "output_type": "display_data"
    }
   ],
   "source": [
    "# Diskに保存\n",
    "DatasetDict(train=train_dataset, validation=validation_dataset, test=test_dataset).save_to_disk('uudb_dataset')"
   ]
  }
 ],
 "metadata": {
  "kernelspec": {
   "display_name": "py311",
   "language": "python",
   "name": "python3"
  },
  "language_info": {
   "codemirror_mode": {
    "name": "ipython",
    "version": 3
   },
   "file_extension": ".py",
   "mimetype": "text/x-python",
   "name": "python",
   "nbconvert_exporter": "python",
   "pygments_lexer": "ipython3",
   "version": "3.11.9"
  }
 },
 "nbformat": 4,
 "nbformat_minor": 2
}
