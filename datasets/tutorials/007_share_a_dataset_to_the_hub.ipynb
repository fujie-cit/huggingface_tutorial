{
 "cells": [
  {
   "cell_type": "markdown",
   "metadata": {},
   "source": [
    "# Hubにデータセットを共有する（Share a dateset to the Hub）\n",
    "\n",
    "Hubは，コミュニティが厳選し，有名な研究データセットの豊富なコレクションです．\n",
    "機械学習コミュニティ（ML community）の発展を助け，全ての人の進捗を加速するために，データセットの共有をしましょう．\n",
    "全ての貢献が歓迎されます．データセットの追加はドラッグ＆ドロップで簡単に行えます！\n",
    "\n",
    "## Hub UIを使ったアップロード（Upload with the Hub UI）\n",
    "\n",
    "Hubのウェブベースのインターフェースはデータセットのアップロードの経験がなくても簡単に行えます．\n",
    "\n",
    "### リポジトリの作成\n",
    "\n",
    "リポジトリは全てのデータセットファイルをホストします．\n",
    "リビジョン履歴を含み，複数のデータセットのバージョンの保存を可能にします．\n",
    "\n",
    "1. プロファイルをクリックし，**New Dataset*を選択して新しいデータセットリポジトリを作成します．\n",
    "2. 名前を決めて，パブリックかプライベートかを選択します．パブリックなデータセットは全ての人に見えます．プライベートなデータセットはあなたや，あなたの組織のメンバーのみに見えます．\n",
    "\n",
    "### データセットのアップロード\n",
    "\n",
    "1. リポジトリが作成されたら，**Files and versions**タブに移動してファイルを追加します．\n",
    "**Add file**を選択してデータセットのアップロードを行います．\n",
    "様々なテキスト，オーディオ，画像データの拡張子（`.csv`，`.json`，`.txt`など）をサポートしています．\n",
    "テキストファイル（`.txt`，`.csv`や`.json`など）の場合はアップロードする前に`.zip`や`.gz`などで圧縮をすることをお勧めします．\n",
    "<br><br>\n",
    "テキストファイルは，デフォルトではGit LFSに追跡されません．\n",
    "また，10MBを超えるものの場合，コミットやアップロードもされません．\n",
    "リポジトリにある`.gitattributes`ファイルの中身を見て，追跡されるファイル拡張子の完全なリストを確認してください．\n",
    "このチュートリアルでは，次に示す`.csv`ファイルをサンプルとして利用できます: [train.csv](https://huggingface.co/datasets/stevhliu/demo/raw/main/train.csv), [test.csv](https://huggingface.co/datasets/stevhliu/demo/raw/main/test.csv)\n",
    "\n",
    "2. データセットファイルをドラッグ＆ドロップし，簡潔な説明のコミットメッセージを追加します．\n",
    "\n",
    "3. アップロードが完了したら，データセットリポジトリに保存されます．"
   ]
  },
  {
   "cell_type": "markdown",
   "metadata": {},
   "source": [
    "### データセットカードの作成\n",
    "\n",
    "データセットカードを追加することは，あなたのデータセットを見つけ，使い方を理解するのを助けるために，非常に有用です．\n",
    "\n",
    "1. **Create Dataset Card**をクリックし，データセットカードを作成します．\n",
    "このボタンは`README.md`ファイルをリポジトリに作成します．\n",
    "\n",
    "2. 前面に，ライセンス，言語，タスクカテゴリなどを選択するいくつかのフィールドを持った**Metadata UI**が現れます．\n",
    "これらはHub上であなたのデータセットを見つけるのを助けるために最も重要なタグです．\n",
    "各フィールドの選択をすると，自動的にデータセットカードのトップに追加されます．\n",
    "<br><br>\n",
    "[Dataset Card specifications](https://github.com/huggingface/hub-docs/blob/main/datasetcard.md?plain=1)を見ると，タグの選択肢の完全な（任意の）リスト（`annotation_creators`など）を得ることができます．\n",
    "\n",
    "3. エディタのトップにある**Import dataset card template**をクリックして，データセットカードのテンプレートを自動的に生成します．\n",
    "テンプレートを埋めることで，あなたのデータセットをコミュニティに紹介し，ユーザたちに使い方を説明することができます．\n",
    "データセットカードの良い例は，[CNN DailyMail Dataset card](https://huggingface.co/datasets/cnn_dailymail)を見てみるとよいでしょう．"
   ]
  },
  {
   "cell_type": "markdown",
   "metadata": {},
   "source": [
    "### データセットのロード\n",
    "\n",
    "データセットがHubに保存されたら，`load_dataset()`をつかって誰でも簡単にロードすることができます．\n",
    "\n",
    "```python\n",
    "from datasets import load_dataset\n",
    "dataset = load_dataset(\"stevhliu/demo\")"
   ]
  },
  {
   "cell_type": "markdown",
   "metadata": {},
   "source": [
    "## Pythonでのアップロード（Upload with Python）\n",
    "\n",
    "データセットをプログラムでアップロードしたい場合は，huggingface_hubライブラリを使うことができます．\n",
    "このライブラリを使うことでPythonからHubとやり取りをすることができます．\n",
    "\n",
    "1. ライブラリをインストールします:\n",
    "```bash\n",
    "pip install huggingface_hub\n",
    "```\n",
    "\n",
    "2. `push_to_hub()`関数を使うことで，リポジトリにファイルを追加，コミット，プッシュすることができます．\n",
    "```python\n",
    "from datasets import load_dataset\n",
    "\n",
    "dataset = load_dataset(\"stevhliu/demo\")\n",
    "# dataset = dataset.map(...) # 処理内容をここに記入します\n",
    "dataset.push_to_hub(\"stevhliu/processed_demo\")\n",
    "```\n",
    "\n",
    "データセットをプライベートに設定するためには，`private`パラメタを`True`にします．\n",
    "このパラメタはリポジトリを最初に作成するときののみ有効です．\n",
    "```python\n",
    "dataset.push_to_hub(\"stevhliu/processed_demo\", private=True)\n",
    "```\n",
    "\n",
    "データセットに新しいコンフィギュレーション（またはサブセット）を追加したり，新しいスプリット（train/validation/test）を追加するには，`Dataset.push_to_hub()`を参照してください．"
   ]
  },
  {
   "cell_type": "markdown",
   "metadata": {},
   "source": [
    "### プライバシー（Privacy）\n",
    "\n",
    "プライベートなデータセットは，あなたのみがアクセスできます．\n",
    "同様に，あなたの組織にのみ共有した場合は，組織のメンバーのみがアクセスすることができます．\n",
    "\n",
    "プライベートなデータセットを読み込むには，`token`パラメタにアクセストークンを渡します:\n",
    "```python\n",
    "from datasets import load_dataset\n",
    "\n",
    "# プライベートな個別のデータセットを読み込む\n",
    "dataset = load_dataset(\"stevhliu/demo\", token=True)\n",
    "\n",
    "# プライベートな組織のデータセットを読み込む\n",
    "dataset = load_dataset(\"organization/dataset_name\", token=True)"
   ]
  },
  {
   "cell_type": "markdown",
   "metadata": {},
   "source": [
    "## 次のステップ\n",
    "\n",
    "おめでとう，チュートリアルを完了しました🥳"
   ]
  }
 ],
 "metadata": {
  "language_info": {
   "name": "python"
  }
 },
 "nbformat": 4,
 "nbformat_minor": 2
}
