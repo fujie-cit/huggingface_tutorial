{
 "cells": [
  {
   "cell_type": "markdown",
   "metadata": {},
   "source": [
    "# データセットの作成（Create a dataset）\n",
    "\n",
    "ときどき，独自のデータを扱う場合にデータセットを作成する必要が生じます．\n",
    "Hugging Face Datasets でデータセットを作成することは，ライブラリが提供する全ての利点をデータセットに与えることができます．\n",
    "例えば，高速な読み込みと処理，膨大なデータセットのストリーミング，メモリマッピングなどです．\n",
    "Hugging Face Datasetsを使うことで，少ないコーディングで簡単に迅速にデータセットの作成ができ，モデルの学習の開始にかかる時間を短縮できます．\n",
    "多くの場合，データファイルをHubのリポジトリにドラッグアンドドロップするように簡単です．\n",
    "\n",
    "このチュートリアルでは，全てのタイプのデータセットを，Hugging Face Datasetsの少ないコーディングで作成する方法を紹介します．\n",
    "- 画像やオーディオのデータセットを素早く作成するためのフォルダベースのビルダ\n",
    "- ローカルファイルからデータセットを作成する`from_`メソッド\n",
    "\n",
    "## フォルダベースのビルダ（Folder-based builder）\n",
    "\n",
    "2種類のフォルダベースのビルダがあります．\n",
    "一つは`ImageFolder`，もう一つは`AudioFolder`です．\n",
    "これらは，少ないコーディング（low-code method）で数千の画像やオーディオファイルを含むデータセットを作成するために設計されています．\n",
    "画像や音声のモデルを作る際，より大きいデータセットにスケーリングする前の素早いプロトタイピングをするのに優れています．\n",
    "フォルダーベースビルダは，データを受け取ると自動的にデータセットのフィーチャ（features），スプリット（splits），そしてラベル（labels）を生成します:\n",
    "\n",
    "- `ImageFolder`は`Image`特徴を持ち，画像ファイルをデコードするのに用います．\n",
    "多くの画像拡張形式（jpgやpng，その他）がサポートされています．\n",
    "[このリスト](https://github.com/huggingface/datasets/blob/b5672a956d5de864e6f5550e493527d962d6ae55/src/datasets/packaged_modules/imagefolder/imagefolder.py#L39)でサポートされる全ての画像形式が確認できます．\n",
    "- `AudioFolder`は`Audio`特徴を持ち，音声ファイルをデコードするのに用います．\n",
    "音声ファイルの形式は，wavやmp3などがサポートされています．\n",
    "[このリスト](https://github.com/huggingface/datasets/blob/b5672a956d5de864e6f5550e493527d962d6ae55/src/datasets/packaged_modules/audiofolder/audiofolder.py#L39)でサポートされる全ての音声形式が確認できます．\n",
    "\n",
    "データセットのスプリットはリポジトリの構造から生成されます，\n",
    "また，ラベル名はディレクトリ名から自動的に推測されます．\n",
    "\n",
    "例えば，もしあなたの画像データが次のように保存されているとします（音声の場合も同様です）:\n",
    "```\n",
    "pokemon/train/grass/bulbasaur.png\n",
    "pokemon/train/fire/charmander.png\n",
    "pokemon/train/water/squirtle.png\n",
    "\n",
    "pokemon/test/grass/ivysaur.png\n",
    "pokemon/test/fire/charmeleon.png\n",
    "pokemon/test/water/wartortle.png\n",
    "```\n",
    "この場合，フォルダベースのビルダは次のように解釈します:\n",
    "- `train`や`test`はスプリット名\n",
    "- `grass`, `fire`, `water`はラベル名\n",
    "- `bulbasaur.png`, `charmander.png`, `squirtle.png`は画像ファイル"
   ]
  },
  {
   "cell_type": "markdown",
   "metadata": {},
   "source": []
  }
 ],
 "metadata": {
  "language_info": {
   "name": "python"
  }
 },
 "nbformat": 4,
 "nbformat_minor": 2
}

{
 "cells": [
  {
   "cell_type": "markdown",
   "metadata": {},
   "source": [
    "# データセットの作成（Create a dataset）\n",
    "\n",
    "ときどき，独自のデータを扱う場合にデータセットを作成する必要が生じます．\n",
    "Hugging Face Datasets でデータセットを作成することは，ライブラリが提供する全ての利点をデータセットに与えることができます．\n",
    "例えば，高速な読み込みと処理，膨大なデータセットのストリーミング，メモリマッピングなどです．\n",
    "Hugging Face Datasetsを使うことで，少ないコーディングで簡単に迅速にデータセットの作成ができ，モデルの学習の開始にかかる時間を短縮できます．\n",
    "多くの場合，データファイルをHubのリポジトリにドラッグアンドドロップするように簡単です．\n",
    "\n",
    "このチュートリアルでは，全てのタイプのデータセットを，Hugging Face Datasetsの少ないコーディングで作成する方法を紹介します．\n",
    "- 画像やオーディオのデータセットを素早く作成するためのフォルダベースのビルダ\n",
    "- ローカルファイルからデータセットを作成する`from_`メソッド\n",
    "\n",
    "## フォルダベースのビルダ（Folder-based builder）\n",
    "\n",
    "2種類のフォルダベースのビルダがあります．\n",
    "一つは`ImageFolder`，もう一つは`AudioFolder`です．\n",
    "これらは，少ないコーディング（low-code method）で数千の画像やオーディオファイルを含むデータセットを作成するために設計されています．\n",
    "画像や音声のモデルを作る際，より大きいデータセットにスケーリングする前の素早いプロトタイピングをするのに優れています．\n",
    "フォルダーベースビルダは，データを受け取ると自動的にデータセットのフィーチャ（features），スプリット（splits），そしてラベル（labels）を生成します:\n",
    "\n",
    "- `ImageFolder`は`Image`特徴を持ち，画像ファイルをデコードするのに用います．\n",
    "多くの画像拡張形式（jpgやpng，その他）がサポートされています．\n",
    "[このリスト](https://github.com/huggingface/datasets/blob/b5672a956d5de864e6f5550e493527d962d6ae55/src/datasets/packaged_modules/imagefolder/imagefolder.py#L39)でサポートされる全ての画像形式が確認できます．\n",
    "- `AudioFolder`は`Audio`特徴を持ち，音声ファイルをデコードするのに用います．\n",
    "音声ファイルの形式は，wavやmp3などがサポートされています．\n",
    "[このリスト](https://github.com/huggingface/datasets/blob/b5672a956d5de864e6f5550e493527d962d6ae55/src/datasets/packaged_modules/audiofolder/audiofolder.py#L39)でサポートされる全ての音声形式が確認できます．\n",
    "\n",
    "データセットのスプリットはリポジトリの構造から生成されます，\n",
    "また，ラベル名はディレクトリ名から自動的に推測されます．\n",
    "\n",
    "例えば，もしあなたの画像データが次のように保存されているとします（音声の場合も同様です）:\n",
    "```\n",
    "pokemon/train/grass/bulbasaur.png\n",
    "pokemon/train/fire/charmander.png\n",
    "pokemon/train/water/squirtle.png\n",
    "\n",
    "pokemon/test/grass/ivysaur.png\n",
    "pokemon/test/fire/charmeleon.png\n",
    "pokemon/test/water/wartortle.png\n",
    "```\n",
    "この場合，フォルダベースのビルダは次のように解釈します:\n",
    "- `train`や`test`はスプリット名\n",
    "- `grass`, `fire`, `water`はラベル名\n",
    "- `bulbasaur.png`, `charmander.png`, `squirtle.png`は画像ファイル\n",
    "\n",
    "`load_dataset()`の`imagefolder`を指定することで，画像データセットを作成できます．"
   ]
  },
  {
   "cell_type": "code",
   "execution_count": 2,
   "metadata": {},
   "outputs": [
    {
     "data": {
      "application/vnd.jupyter.widget-view+json": {
       "model_id": "d375b38fbd3344889638c2d1f68bae6e",
       "version_major": 2,
       "version_minor": 0
      },
      "text/plain": [
       "Generating train split: 0 examples [00:00, ? examples/s]"
      ]
     },
     "metadata": {},
     "output_type": "display_data"
    },
    {
     "data": {
      "application/vnd.jupyter.widget-view+json": {
       "model_id": "1b112c4fc0ea4bc2862afba447f3d0fc",
       "version_major": 2,
       "version_minor": 0
      },
      "text/plain": [
       "Generating test split: 0 examples [00:00, ? examples/s]"
      ]
     },
     "metadata": {},
     "output_type": "display_data"
    }
   ],
   "source": [
    "from datasets import load_dataset\n",
    "dataset = load_dataset(\"imagefolder\", data_dir=\"./example_data/image\")"
   ]
  },
  {
   "cell_type": "markdown",
   "metadata": {},
   "source": [
    "オーディオデータセットも同様に，`load_dataset()`で`audiofolder`を指定することで作成できます．"
   ]
  },
  {
   "cell_type": "code",
   "execution_count": 8,
   "metadata": {},
   "outputs": [
    {
     "data": {
      "application/vnd.jupyter.widget-view+json": {
       "model_id": "9725e9fb33644f90ad651b3607a9a507",
       "version_major": 2,
       "version_minor": 0
      },
      "text/plain": [
       "Generating train split: 0 examples [00:00, ? examples/s]"
      ]
     },
     "metadata": {},
     "output_type": "display_data"
    },
    {
     "data": {
      "application/vnd.jupyter.widget-view+json": {
       "model_id": "190b547da1c94051b56c91eb4b4c06bb",
       "version_major": 2,
       "version_minor": 0
      },
      "text/plain": [
       "Generating test split: 0 examples [00:00, ? examples/s]"
      ]
     },
     "metadata": {},
     "output_type": "display_data"
    }
   ],
   "source": [
    "from datasets import load_dataset\n",
    "dataset = load_dataset(\"audiofolder\", data_dir=\"./example_data/audio\")"
   ]
  },
  {
   "cell_type": "markdown",
   "metadata": {},
   "source": [
    "データセットに関する追加情報（テキストキャプションや，トランスクリプションなど）は，データセットのフォルダの中の`metadata.csv`ファイルに含めることができます．\n",
    "メタデータファイルは，メタデータに関連する画像やオーディオファイルへのリンクを含む`file_name`列を持つ必要があります:\n",
    "```\n",
    "file_name, text\n",
    "bulbasaur.png, There is a plant seed on its back right from the day this Pokémon is born.\n",
    "charmander.png, It has a preference for hot things.\n",
    "squirtle.png, When it retracts its long neck into its shell, it squirts out water with vigorous force.\n",
    "```\n",
    "フォルダベースビルダに関する詳細は，[ImageFolder](https://huggingface.co/docs/datasets/image_dataset#imagefolder)ガイドや[AudioFolder](https://huggingface.co/docs/datasets/audio_dataset#audiofolder)ガイドを参照してください．"
   ]
  },
  {
   "cell_type": "markdown",
   "metadata": {},
   "source": [
    "## ローカルファイルからの作成（From local files）\n",
    "\n",
    "パスとデータファイルを指定することでローカルファイルからデータセットを作ることもできます．\n",
    "`from_`メソッドを用いてデータセットを作る方法は2通りあります:\n",
    "- `from_generator()`メソッドはジェネレータを用いてデータセットを作る，メモリ効率のよい方法です．\n",
    "この方法は，データセットがディスクから徐々に読み込まれてメモリにマッピングされるため，全てをメモリに置くことが適さない大きなデータを扱うときに有用です．"
   ]
  },
  {
   "cell_type": "code",
   "execution_count": 14,
   "metadata": {},
   "outputs": [
    {
     "data": {
      "application/vnd.jupyter.widget-view+json": {
       "model_id": "5fa6773388574ce6bef343c03b0032e2",
       "version_major": 2,
       "version_minor": 0
      },
      "text/plain": [
       "Generating train split: 0 examples [00:00, ? examples/s]"
      ]
     },
     "metadata": {},
     "output_type": "display_data"
    },
    {
     "data": {
      "text/plain": [
       "{'pokemon': 'bulbasur', 'type': 'grass'}"
      ]
     },
     "execution_count": 14,
     "metadata": {},
     "output_type": "execute_result"
    }
   ],
   "source": [
    "from datasets import Dataset\n",
    "def gen():\n",
    "    yield {\"pokemon\": \"bulbasur\", \"type\": \"grass\"}\n",
    "    yield {\"pokemon\": \"squirtle\", \"type\": \"water\"}\n",
    "\n",
    "ds = Dataset.from_generator(gen)\n",
    "ds[0]"
   ]
  },
  {
   "cell_type": "markdown",
   "metadata": {},
   "source": [
    "ジェネレータベースの`IterableDataset`は`for`ループを使ってデータを読み込むことができます:"
   ]
  },
  {
   "cell_type": "code",
   "execution_count": 15,
   "metadata": {},
   "outputs": [
    {
     "name": "stdout",
     "output_type": "stream",
     "text": [
      "{'pokemon': 'bulbasur', 'type': 'grass'}\n",
      "{'pokemon': 'squirtle', 'type': 'water'}\n"
     ]
    }
   ],
   "source": [
    "from datasets import IterableDataset\n",
    "ds = IterableDataset.from_generator(gen)\n",
    "for example in ds:\n",
    "    print(example)"
   ]
  },
  {
   "cell_type": "markdown",
   "metadata": {},
   "source": [
    "`from_dict()`メソッドは，辞書からデータを作成する方法です:"
   ]
  },
  {
   "cell_type": "code",
   "execution_count": 16,
   "metadata": {},
   "outputs": [
    {
     "data": {
      "text/plain": [
       "{'pokemon': 'bulbasur', 'type': 'grass'}"
      ]
     },
     "execution_count": 16,
     "metadata": {},
     "output_type": "execute_result"
    }
   ],
   "source": [
    "from datasets import Dataset\n",
    "ds = Dataset.from_dict({\"pokemon\": [\"bulbasur\", \"squirtle\"], \"type\": [\"grass\", \"water\"]})\n",
    "ds[0]"
   ]
  },
  {
   "cell_type": "markdown",
   "metadata": {},
   "source": [
    "画像やオーディオのデータセットを作成するには，`cast_column()`メソッドを`from_dict()`につなげて，列や特徴を指定します．\n",
    "例えばオーディオデータセットを作成するには以下のようにします:"
   ]
  },
  {
   "cell_type": "code",
   "execution_count": 19,
   "metadata": {},
   "outputs": [],
   "source": [
    "from datasets import Dataset, Audio\n",
    "\n",
    "audio_dataset = Dataset.from_dict(\n",
    "    {\"audio\": [\"example_data/audio/pokemon/train/fire/charmander.wav\",\n",
    "                \"example_data/audio/pokemon/train/fire/charmeleon.wav\",\n",
    "                \"example_data/audio/pokemon/train/fire/charizard.wav\",\n",
    "                \"example_data/audio/pokemon/train/water/squirtle.wav\",\n",
    "                \"example_data/audio/pokemon/train/water/wartortle.wav\",\n",
    "                \"example_data/audio/pokemon/train/water/blastoise.wav\"],\n",
    "      \"label\": [\"fire\", \"fire\", \"fire\", \"water\", \"water\", \"water\"]}).cast_column(\"audio\", Audio())"
   ]
  },
  {
   "cell_type": "markdown",
   "metadata": {},
   "source": [
    "## 次のステップ（Next steps）\n",
    "\n",
    "このチュートリアルでは触れませんでしたが，読み込みスクリプト（loading script）を使用してデータセットを作成することもできます．\n",
    "読み込みスクリプトはより手動的で，多くのコードを利用する方法ですが，データセットの生成方法について完全にフレキシブルな方法です．\n",
    "この方法により，追加情報をデータセットに与えることができます．例えば，複数のコンフィギュレーションをデータに与えたり，データをストリーム対応にしたりすることができます．\n",
    "\n",
    "読み込みスクリプトの書き方の詳細については，[image loading script](https://huggingface.co/docs/datasets/main/en/image_dataset#loading-script)，[audio loading script](https://huggingface.co/docs/datasets/main/en/audio_dataset)，[text loading script](https://huggingface.co/docs/datasets/main/en/dataset_script)ガイドを参照してください．\n",
    "\n",
    "データセットの作成方法がわかったので，Hubにデータを共有してあなたの仕事からコミュニティが恩恵をえることを検討してください．\n",
    "共有方法については次の章で説明します．"
   ]
  },
  {
   "cell_type": "markdown",
   "metadata": {},
   "source": []
  }
 ],
 "metadata": {
  "kernelspec": {
   "display_name": "py311",
   "language": "python",
   "name": "python3"
  },
  "language_info": {
   "codemirror_mode": {
    "name": "ipython",
    "version": 3
   },
   "file_extension": ".py",
   "mimetype": "text/x-python",
   "name": "python",
   "nbconvert_exporter": "python",
   "pygments_lexer": "ipython3",
   "version": "3.11.8"
  }
 },
 "nbformat": 4,
 "nbformat_minor": 2
}
