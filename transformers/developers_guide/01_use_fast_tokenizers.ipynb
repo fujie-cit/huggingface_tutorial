{
 "cells": [
  {
   "cell_type": "markdown",
   "metadata": {},
   "source": [
    "# Use tokenizers from Hugging Face Tokenizers\n",
    "\n",
    "`PreTrainedTokenizerFast`は，`Hugging Face Tokenizers`ライブラリに依存しています．\n",
    "ライブラリから得られるトークナイザはHugging Face Transformersにとても簡単に読み込むことができます．\n",
    "\n",
    "詳細に入る前に，ダミーのトークナイザを数行で生成することから始めましょう:"
   ]
  },
  {
   "cell_type": "code",
   "execution_count": 1,
   "metadata": {},
   "outputs": [
    {
     "name": "stdout",
     "output_type": "stream",
     "text": [
      "\n",
      "\n",
      "\n"
     ]
    }
   ],
   "source": [
    "from tokenizers import Tokenizer\n",
    "from tokenizers.models import BPE\n",
    "from tokenizers.trainers import BpeTrainer\n",
    "from tokenizers.pre_tokenizers import Whitespace\n",
    "\n",
    "tokenizer = Tokenizer(BPE(unk_token=\"[UNK]\"))\n",
    "trainer = BpeTrainer(special_tokens=[\"[UNK]\", \"[CLS]\", \"[SEP]\", \"[PAD]\", \"[MASK]\"])\n",
    "\n",
    "tokenizer.pre_tokenizer = Whitespace()\n",
    "files = [\"../tutorials/001_quicktour.ipynb\"]\n",
    "tokenizer.train(files, trainer)"
   ]
  },
  {
   "cell_type": "markdown",
   "metadata": {},
   "source": [
    "定義したファイルで学習されたトークナイザが得られました．\n",
    "このままこのランタイムで利用することもできますし，JSONファイルに保存して将来の再利用に備えることもできます．"
   ]
  },
  {
   "cell_type": "markdown",
   "metadata": {},
   "source": [
    "## トークナイザオブジェクトからの直接の読み込み（Loading directly from tokenizer object）\n",
    "\n",
    "このトークナイザオブジェクトをHugging Face Transformersライブラリで利用する方法について見ていきましょう．\n",
    "*tokenizer*オブジェクトを引数にすることで，`PreTrainedTokenizerFast`クラスが簡単な実現方法を可能にします．"
   ]
  },
  {
   "cell_type": "code",
   "execution_count": 2,
   "metadata": {},
   "outputs": [],
   "source": [
    "from transformers import PreTrainedTokenizerFast\n",
    "\n",
    "fast_tokenizer = PreTrainedTokenizerFast(tokenizer_object=tokenizer)"
   ]
  },
  {
   "cell_type": "markdown",
   "metadata": {},
   "source": [
    "Hugging Face Transformersのトークナイザで共有される全てのメソッドでこのオブジェクトを利用することができます！\n",
    "より多くの情報のために[tokenizer page](https://huggingface.co/docs/transformers/v4.44.0/en/main_classes/tokenizer)に進んでください．"
   ]
  },
  {
   "cell_type": "markdown",
   "metadata": {},
   "source": [
    "## JSONファイルの読み込み（Loading from a JSON file）\n",
    "\n",
    "JSONファイルからトークナイザを読み込むために，今のトークナイザを保存してみましょう．"
   ]
  },
  {
   "cell_type": "code",
   "execution_count": 3,
   "metadata": {},
   "outputs": [],
   "source": [
    "tokenizer.save(\"tokenizer.json\")"
   ]
  },
  {
   "cell_type": "markdown",
   "metadata": {},
   "source": [
    "ファイルを保存するのに使用したパスは，`PreTrainedTokenizerFast`の初期化メソッドに`tokenizer_file`パラメータを使って渡すことができます:"
   ]
  },
  {
   "cell_type": "code",
   "execution_count": 4,
   "metadata": {},
   "outputs": [],
   "source": [
    "from transformers import PreTrainedTokenizerFast\n",
    "fast_tokenizer = PreTrainedTokenizerFast(tokenizer_file=\"tokenizer.json\")"
   ]
  },
  {
   "cell_type": "markdown",
   "metadata": {},
   "source": [
    "Hugging Face Transformersのトークナイザで共有される全てのメソッドでこのオブジェクトを利用することができます！\n",
    "より多くの情報のために[tokenizer page](https://huggingface.co/docs/transformers/v4.44.0/en/main_classes/tokenizer)に進んでください．"
   ]
  }
 ],
 "metadata": {
  "kernelspec": {
   "display_name": "py311",
   "language": "python",
   "name": "python3"
  },
  "language_info": {
   "codemirror_mode": {
    "name": "ipython",
    "version": 3
   },
   "file_extension": ".py",
   "mimetype": "text/x-python",
   "name": "python",
   "nbconvert_exporter": "python",
   "pygments_lexer": "ipython3",
   "version": "3.11.8"
  }
 },
 "nbformat": 4,
 "nbformat_minor": 2
}
