{
 "cells": [
  {
   "cell_type": "markdown",
   "metadata": {},
   "source": [
    "# 推論のためのPipeline\n",
    "\n",
    "## Pipelineの使い方\n",
    "\n",
    "タスク固有の`pipeline()`を使用する代わりに，全てのタスク固有のパイプラインを含む一般的な`pipeline()`を使用するのがより簡単です．\n",
    "\n",
    "`pipeline()`は自動的にデフォルトのモデルと前処理クラスを読み込みます．\n",
    "\n",
    "1. `pipeline()`を作成し，推論タスクを指定して始めます:"
   ]
  },
  {
   "cell_type": "code",
   "execution_count": 6,
   "metadata": {},
   "outputs": [
    {
     "name": "stderr",
     "output_type": "stream",
     "text": [
      "No model was supplied, defaulted to facebook/wav2vec2-base-960h and revision 55bb623 (https://huggingface.co/facebook/wav2vec2-base-960h).\n",
      "Using a pipeline without specifying a model name and revision in production is not recommended.\n",
      "/home/fujie/.conda/envs/py311/lib/python3.11/site-packages/huggingface_hub/file_download.py:1132: FutureWarning: `resume_download` is deprecated and will be removed in version 1.0.0. Downloads always resume when possible. If you want to force a new download, use `force_download=True`.\n",
      "  warnings.warn(\n",
      "Some weights of the model checkpoint at facebook/wav2vec2-base-960h were not used when initializing Wav2Vec2ForCTC: ['wav2vec2.encoder.pos_conv_embed.conv.weight_g', 'wav2vec2.encoder.pos_conv_embed.conv.weight_v']\n",
      "- This IS expected if you are initializing Wav2Vec2ForCTC from the checkpoint of a model trained on another task or with another architecture (e.g. initializing a BertForSequenceClassification model from a BertForPreTraining model).\n",
      "- This IS NOT expected if you are initializing Wav2Vec2ForCTC from the checkpoint of a model that you expect to be exactly identical (initializing a BertForSequenceClassification model from a BertForSequenceClassification model).\n",
      "Some weights of Wav2Vec2ForCTC were not initialized from the model checkpoint at facebook/wav2vec2-base-960h and are newly initialized: ['wav2vec2.encoder.pos_conv_embed.conv.parametrizations.weight.original0', 'wav2vec2.encoder.pos_conv_embed.conv.parametrizations.weight.original1', 'wav2vec2.masked_spec_embed']\n",
      "You should probably TRAIN this model on a down-stream task to be able to use it for predictions and inference.\n"
     ]
    }
   ],
   "source": [
    "from transformers import pipeline\n",
    "\n",
    "generator = pipeline(task=\"automatic-speech-recognition\")"
   ]
  },
  {
   "cell_type": "markdown",
   "metadata": {},
   "source": [
    "2. `pipeline()`に入力データを渡します:"
   ]
  },
  {
   "cell_type": "code",
   "execution_count": 7,
   "metadata": {},
   "outputs": [
    {
     "data": {
      "text/plain": [
       "{'text': 'I HAVE A DREAM BUT ONE DAY THIS NATION WILL RISE UP LIVE UP THE TRUE MEANING OF ITS TREES'}"
      ]
     },
     "execution_count": 7,
     "metadata": {},
     "output_type": "execute_result"
    }
   ],
   "source": [
    "generator(\"https://huggingface.co/datasets/Narsil/asr_dummy/resolve/main/mlk.flac\")"
   ]
  },
  {
   "cell_type": "markdown",
   "metadata": {},
   "source": [
    "`task`を指定することで，デフォルトのモデルと前処理クラスが自動的に読み込まれます．\n",
    "\n",
    "`model`を指定することで，指定したモデルが読み込まれます．\n",
    "より大規模な音声認識モデルを使用してみましょう．"
   ]
  },
  {
   "cell_type": "code",
   "execution_count": 8,
   "metadata": {},
   "outputs": [
    {
     "name": "stderr",
     "output_type": "stream",
     "text": [
      "Special tokens have been added in the vocabulary, make sure the associated word embeddings are fine-tuned or trained.\n"
     ]
    },
    {
     "data": {
      "text/plain": [
       "{'text': ' I have a dream that one day this nation will rise up and live out the true meaning of its creed.'}"
      ]
     },
     "execution_count": 8,
     "metadata": {},
     "output_type": "execute_result"
    }
   ],
   "source": [
    "generator = pipeline(model=\"openai/whisper-large\")\n",
    "generator(\"https://huggingface.co/datasets/Narsil/asr_dummy/resolve/main/mlk.flac\")"
   ]
  },
  {
   "cell_type": "markdown",
   "metadata": {},
   "source": [
    "## パラメータ\n",
    "\n",
    "`pipeline()`は多くのパラメータをサポートしています．\n",
    "パラメータにはタスク固有のものと，全パイプラインに共通のものがあります．\n",
    "`pipeline()`のインスタンス作成時や，推論時にパラメータを指定することができます．\n",
    "推論時に指定したパラメータはインスタンス作成時のパラメータよりも優先されますが，一時的なものとしてのみ使用されます．\n",
    "\n",
    "\n",
    "```python\n",
    "generator = pipeline(modeul=\"openai/whisper-large\", my_parameter=1)\n",
    "out = generator(...) # このとき，my_parameter=1が使用されます\n",
    "out = generator(..., my_parameter=2) # このとき，my_parameter=2が使用されます\n",
    "out = genetrator(...) # このとき，my_parameter=1が使用されます\n",
    "```"
   ]
  },
  {
   "cell_type": "markdown",
   "metadata": {},
   "source": [
    "### デバイス\n",
    "\n",
    "`device=n`を指定すると，パイプラインはモデルを指定したデバイスに自動的に配置します．\n",
    "\n",
    "```python\n",
    "generator = pipeline(model=\"openai/whisper-large\", device=0) # GPU 0にモデルを配置します\n",
    "```\n",
    "\n",
    "モデルが単一のGPUには大きすぎる場合，`device_map=\"auto\"`を設定して，\n",
    "`Accelerate`にモデルの重みをどのようにロードし，保存するかを自動的に決定させることができます．\n",
    "\n",
    "```python\n",
    "generator = pipeline(model=\"opeanai/whisper-large\", device_map=\"auto\")\n",
    "```\n",
    "\n",
    "`device_map=\"auto\"`にしたときは，`device`パラメータは指定すべきではありません．"
   ]
  },
  {
   "cell_type": "markdown",
   "metadata": {},
   "source": [
    "### バッチサイズ\n",
    "\n",
    "デフォルトではパイプラインはバッチ処理をしませんが，`batch_size=n`を指定すると，バッチ処理を行うことができます．\n",
    "\n",
    "```python\n",
    "generator = pipeline(model=\"openai/whisper-large\", batch_size=8)\n",
    "audio_files = [f\"audio_{i}.wav\" for i in range(16)]\n",
    "texts = generator(audio_files)\n",
    "```\n",
    "\n",
    "`texts`にはバッチ処理の有無に関わらず同様の結果が得られます．"
   ]
  },
  {
   "cell_type": "markdown",
   "metadata": {},
   "source": []
  }
 ],
 "metadata": {
  "kernelspec": {
   "display_name": "py311",
   "language": "python",
   "name": "python3"
  },
  "language_info": {
   "codemirror_mode": {
    "name": "ipython",
    "version": 3
   },
   "file_extension": ".py",
   "mimetype": "text/x-python",
   "name": "python",
   "nbconvert_exporter": "python",
   "pygments_lexer": "ipython3",
   "version": "3.11.9"
  }
 },
 "nbformat": 4,
 "nbformat_minor": 2
}
